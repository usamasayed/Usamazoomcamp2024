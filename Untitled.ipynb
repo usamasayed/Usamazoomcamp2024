{
 "cells": [
  {
   "cell_type": "code",
   "execution_count": null,
   "id": "1ebe8426-e5e0-492c-9327-455318ac1875",
   "metadata": {},
   "outputs": [
    {
     "name": "stdout",
     "output_type": "stream",
     "text": [
      "Usama\n"
     ]
    }
   ],
   "source": [
    "print(\"Usama sayed\")"
   ]
  },
  {
   "cell_type": "code",
   "execution_count": null,
   "id": "df4d2cf2",
   "metadata": {},
   "outputs": [],
   "source": []
  }
 ],
 "metadata": {
  "kernelspec": {
   "display_name": "Python 3 (ipykernel)",
   "language": "python",
   "name": "python3"
  },
  "language_info": {
   "codemirror_mode": {
    "name": "ipython",
    "version": 3
   },
   "file_extension": ".py",
   "mimetype": "text/x-python",
   "name": "python",
   "nbconvert_exporter": "python",
   "pygments_lexer": "ipython3",
   "version": "3.10.13"
  }
 },
 "nbformat": 4,
 "nbformat_minor": 5
}
